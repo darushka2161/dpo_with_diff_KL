{
 "cells": [
  {
   "cell_type": "markdown",
   "id": "95e7b0aa-b615-412a-8d37-338bfb2ecdb6",
   "metadata": {},
   "source": [
    "# Анализ обучения с различными KL-дивергенциями и коэффициентами β\n",
    "\n",
    "## Введение\n",
    "\n",
    "В ходе эксперимента была проведена серия обучений с использованием различных видов KL-дивергенции и значений β в кастомном DPOTrainer. Основной целью было исследование влияния этих гиперпараметров на итоговое качество модели, выраженное через Win Rate и величину KL-дивергенции.\n",
    "\n",
    "## Методология\n",
    "\n",
    "### 1. Различные KL-дивергенции\n",
    "\n",
    "Были протестированы три вида KL-дивергенции:\n",
    "\n",
    "Forward KL – наказывает отклонение модели от референсного распределения.\n",
    "\n",
    "Alpha-дивергенция (α=0.5) – промежуточный вариант между forward и reverse KL.\n",
    "\n",
    "JS-дивергенция – усреднённая мера расхождения между двумя распределениями.\n",
    "\n",
    "### 2. Различные значения β\n",
    "\n",
    "Для каждого типа KL-дивергенции также варьировался коэффициент β, который регулирует силу регуляризации. Рассматривались следующие значения:\n",
    "\n",
    "0.05 – очень слабая регуляризация.\n",
    "\n",
    "0.1 – слабая регуляризация.\n",
    "\n",
    "1.0 – сбалансированный вариант.\n",
    "\n",
    "5.0 – сильная регуляризация.\n",
    "\n",
    "### 3. Процесс обучения\n",
    "\n",
    "Каждая модель проходила 200 шагов обучения.\n",
    "\n",
    "Результаты оценивались при помощи llm_blender (PairRM).\n",
    "\n",
    "## Результаты\n",
    "\n",
    "### 1. Влияние разных видов KL-дивергенции\n",
    "\n",
    "Анализ показал, что Win Rate практически не зависит от вида KL-дивергенции и остаётся около 0.23 во всех случаях. Это указывает на слабое влияние выбора KL на финальную производительность модели.\n",
    "\n",
    "### 2. Влияние β\n",
    "\n",
    "Результаты для различных значений β:\n",
    "\n",
    "β = 0.05: Win Rate = 0.22, KL = 0.0531\n",
    "\n",
    "β = 0.1: Win Rate = 0.23, KL = 0.0349\n",
    "\n",
    "β = 1.0: Win Rate = 0.09, KL = 0.0150\n",
    "\n",
    "β = 5.0: Win Rate = 0.12, KL = 0.0140\n",
    "\n",
    "### Выводы:\n",
    "\n",
    "При низких значениях β (0.05–0.1) модель сохраняет более высокие значения KL-дивергенции, но показывает относительно стабильный Win Rate.\n",
    "\n",
    "При умеренных и высоких значениях β (1.0–5.0) KL значительно снижается, но Win Rate падает, что может свидетельствовать о чрезмерной регуляризации модели.\n",
    "\n",
    "В целом, существует баланс между регулированием расхождения распределений и сохранением качества модели.\n",
    "\n",
    "## Выводы\n",
    "\n",
    "Выбор вида KL-дивергенции не оказал заметного влияния на Win Rate.\n",
    "\n",
    "Изменение β показало, что сильная регуляризация уменьшает KL, но не всегда улучшает производительность модели."
   ]
  },
  {
   "cell_type": "code",
   "execution_count": null,
   "id": "fa3e67c1-b656-44b7-9182-08de4752f243",
   "metadata": {
    "trusted": true
   },
   "outputs": [],
   "source": [
    "# !pip install trl\n",
    "# !pip install datasets\n",
    "# !pip install llm_blender"
   ]
  },
  {
   "cell_type": "code",
   "execution_count": 2,
   "id": "ada24cab-b257-420d-b4ca-6e96a54064ec",
   "metadata": {
    "execution": {
     "iopub.execute_input": "2025-03-05T22:54:36.348526Z",
     "iopub.status.busy": "2025-03-05T22:54:36.348298Z",
     "iopub.status.idle": "2025-03-05T22:54:36.352054Z",
     "shell.execute_reply": "2025-03-05T22:54:36.351308Z",
     "shell.execute_reply.started": "2025-03-05T22:54:36.348505Z"
    },
    "trusted": true
   },
   "outputs": [],
   "source": [
    "max_steps = 200"
   ]
  },
  {
   "cell_type": "code",
   "execution_count": 3,
   "id": "c0d7481e-7cef-4c11-b48a-053db5a90f65",
   "metadata": {
    "execution": {
     "iopub.execute_input": "2025-03-05T22:54:36.353735Z",
     "iopub.status.busy": "2025-03-05T22:54:36.353533Z",
     "iopub.status.idle": "2025-03-05T22:55:10.584242Z",
     "shell.execute_reply": "2025-03-05T22:55:10.583385Z",
     "shell.execute_reply.started": "2025-03-05T22:54:36.353719Z"
    },
    "trusted": true
   },
   "outputs": [],
   "source": [
    "# from scipy.stats import entropy\n",
    "import llm_blender\n",
    "import numpy as np\n",
    "import torch\n",
    "import gc\n",
    "import matplotlib.pyplot as plt\n",
    "from scipy.special import kl_div\n",
    "from datasets import load_dataset\n",
    "from trl import DPOTrainer, DPOConfig\n",
    "from transformers import AutoModelForCausalLM, AutoTokenizer\n",
    "import torch.nn.functional as F"
   ]
  },
  {
   "cell_type": "code",
   "execution_count": 4,
   "id": "654377ce-535a-4cc4-aaf6-450a34be5bf0",
   "metadata": {
    "execution": {
     "iopub.execute_input": "2025-03-05T22:55:10.585702Z",
     "iopub.status.busy": "2025-03-05T22:55:10.585423Z",
     "iopub.status.idle": "2025-03-05T22:55:10.668035Z",
     "shell.execute_reply": "2025-03-05T22:55:10.667106Z",
     "shell.execute_reply.started": "2025-03-05T22:55:10.585671Z"
    },
    "trusted": true
   },
   "outputs": [],
   "source": [
    "MODEL_NAME = \"HuggingFaceTB/SmolLM2-135M-Instruct\"\n",
    "DEVICE = torch.device(\"cuda\" if torch.cuda.is_available() else \"cpu\")"
   ]
  },
  {
   "cell_type": "code",
   "execution_count": 5,
   "id": "4f3cb222-e1d0-4f22-8b12-8844c214bd00",
   "metadata": {
    "execution": {
     "iopub.execute_input": "2025-03-05T22:55:10.669261Z",
     "iopub.status.busy": "2025-03-05T22:55:10.668957Z",
     "iopub.status.idle": "2025-03-05T22:55:10.860778Z",
     "shell.execute_reply": "2025-03-05T22:55:10.860190Z",
     "shell.execute_reply.started": "2025-03-05T22:55:10.669229Z"
    },
    "trusted": true
   },
   "outputs": [],
   "source": [
    "def load_and_preprocess_dataset():\n",
    "    dataset = load_dataset(\"HuggingFaceH4/ultrafeedback_binarized\")\n",
    "    \n",
    "    def preprocess(example):\n",
    "        return {\n",
    "            \"prompt\": example[\"prompt\"],\n",
    "            \"chosen\": example[\"chosen\"],\n",
    "            \"rejected\": example[\"rejected\"]\n",
    "        }\n",
    "    \n",
    "    # Предобработка тренировочного набора данных\n",
    "    train_dataset = dataset[\"train_prefs\"].map(preprocess, remove_columns=[\"messages\"])\n",
    "    test_dataset = dataset[\"test_prefs\"].map(preprocess, remove_columns=[\"messages\"])\n",
    "    \n",
    "    return train_dataset, test_dataset"
   ]
  },
  {
   "cell_type": "code",
   "execution_count": 6,
   "id": "853e00d6-c2fc-4b48-b187-4b53487f568e",
   "metadata": {
    "execution": {
     "iopub.execute_input": "2025-03-05T22:55:10.861777Z",
     "iopub.status.busy": "2025-03-05T22:55:10.861548Z",
     "iopub.status.idle": "2025-03-05T22:55:10.883048Z",
     "shell.execute_reply": "2025-03-05T22:55:10.882435Z",
     "shell.execute_reply.started": "2025-03-05T22:55:10.861758Z"
    },
    "trusted": true
   },
   "outputs": [],
   "source": [
    "def initialize_models_and_tokenizer():\n",
    "    model = AutoModelForCausalLM.from_pretrained(MODEL_NAME)\n",
    "    tokenizer = AutoTokenizer.from_pretrained(MODEL_NAME)\n",
    "    return model, tokenizer"
   ]
  },
  {
   "cell_type": "code",
   "execution_count": 7,
   "id": "e70756ee-b7cb-4316-baf2-4c3a2ebca5ef",
   "metadata": {
    "execution": {
     "iopub.execute_input": "2025-03-05T22:55:10.884165Z",
     "iopub.status.busy": "2025-03-05T22:55:10.883920Z",
     "iopub.status.idle": "2025-03-05T22:55:10.900522Z",
     "shell.execute_reply": "2025-03-05T22:55:10.899943Z",
     "shell.execute_reply.started": "2025-03-05T22:55:10.884127Z"
    },
    "trusted": true
   },
   "outputs": [],
   "source": [
    "def generate_responses(model, tokenizer, prompts):\n",
    "    responses = []\n",
    "    model.to(DEVICE)\n",
    "    for prompt in prompts:\n",
    "        inputs = tokenizer(prompt, return_tensors=\"pt\").to(DEVICE)\n",
    "        with torch.no_grad():\n",
    "            output = model.generate(**inputs, max_new_tokens=100)\n",
    "        responses.append(tokenizer.decode(output[0], skip_special_tokens=True))\n",
    "    return responses"
   ]
  },
  {
   "cell_type": "code",
   "execution_count": 8,
   "id": "6381599d-f713-44c9-bf80-4601ef036389",
   "metadata": {
    "execution": {
     "iopub.execute_input": "2025-03-05T22:55:10.902582Z",
     "iopub.status.busy": "2025-03-05T22:55:10.902384Z",
     "iopub.status.idle": "2025-03-05T22:55:10.917540Z",
     "shell.execute_reply": "2025-03-05T22:55:10.916972Z",
     "shell.execute_reply.started": "2025-03-05T22:55:10.902566Z"
    },
    "trusted": true
   },
   "outputs": [],
   "source": [
    "def compute_kl_divergence(model, model_dpo, tokenizer, prompts):\n",
    "    kl_divs = []\n",
    "    for prompt in prompts:\n",
    "        inputs = tokenizer(prompt, return_tensors=\"pt\").to(DEVICE)\n",
    "        with torch.no_grad():\n",
    "            logits_sft = model(**inputs).logits\n",
    "            logits_dpo = model_dpo(**inputs).logits\n",
    "\n",
    "        probs_sft = torch.nn.functional.softmax(logits_sft, dim=-1)\n",
    "        probs_dpo = torch.nn.functional.softmax(logits_dpo, dim=-1)\n",
    "\n",
    "        probs_sft_flat = probs_sft.view(-1, probs_sft.size(-1)).cpu().numpy()\n",
    "        probs_dpo_flat = probs_dpo.view(-1, probs_dpo.size(-1)).cpu().numpy()\n",
    "\n",
    "        kl_div_per_token = np.sum(kl_div(probs_dpo_flat, probs_sft_flat), axis=-1)\n",
    "        kl_div_avg = np.mean(kl_div_per_token)\n",
    "        kl_divs.append(kl_div_avg)\n",
    "\n",
    "    return sum(kl_divs) / len(kl_divs)"
   ]
  },
  {
   "cell_type": "code",
   "execution_count": 9,
   "id": "5eaeb5ec-cd5e-4ecb-868c-985f4b4603d4",
   "metadata": {
    "execution": {
     "iopub.execute_input": "2025-03-05T22:55:10.918860Z",
     "iopub.status.busy": "2025-03-05T22:55:10.918621Z",
     "iopub.status.idle": "2025-03-05T22:55:10.935332Z",
     "shell.execute_reply": "2025-03-05T22:55:10.934726Z",
     "shell.execute_reply.started": "2025-03-05T22:55:10.918832Z"
    },
    "trusted": true
   },
   "outputs": [],
   "source": [
    "def train_dpo_model(model, tokenizer, train_dataset, beta):\n",
    "    dpo_config = DPOConfig(\n",
    "        beta=beta,\n",
    "        per_device_train_batch_size=1,\n",
    "        gradient_accumulation_steps=16,\n",
    "        learning_rate=5e-5,\n",
    "        max_steps=max_steps,\n",
    "        bf16=True,\n",
    "        logging_steps=10,\n",
    "        output_dir=f\"./dpo_model_beta_{beta}\",\n",
    "        report_to=\"none\"\n",
    "    )\n",
    "    trainer = DPOTrainer(\n",
    "        model=model,\n",
    "        args=dpo_config,\n",
    "        train_dataset=train_dataset,\n",
    "        tokenizer=tokenizer\n",
    "    )\n",
    "    trainer.train()\n",
    "    trainer.save_model(f\"dpo_model_beta_{beta}\")\n",
    "    return trainer"
   ]
  },
  {
   "cell_type": "code",
   "execution_count": 10,
   "id": "2044b7d6-89c5-4028-b57c-85f64c52462a",
   "metadata": {
    "execution": {
     "iopub.execute_input": "2025-03-05T22:55:10.936239Z",
     "iopub.status.busy": "2025-03-05T22:55:10.936060Z",
     "iopub.status.idle": "2025-03-05T22:55:10.958617Z",
     "shell.execute_reply": "2025-03-05T22:55:10.958076Z",
     "shell.execute_reply.started": "2025-03-05T22:55:10.936223Z"
    },
    "trusted": true
   },
   "outputs": [],
   "source": [
    "def evaluate_model(model, model_dpo, tokenizer, prompts, blender, responses_sft):\n",
    "    responses_dpo = generate_responses(model_dpo, tokenizer, prompts)\n",
    "    candidates = list(zip(responses_dpo, responses_sft))\n",
    "    ranks = blender.rank(prompts, candidates, return_scores=False, batch_size=1)\n",
    "    win_count = sum([np.argmax(rank) == 1 for rank in ranks])\n",
    "    win_rate = win_count / len(prompts)\n",
    "    kl_divergence = compute_kl_divergence(model, model_dpo, tokenizer, prompts)\n",
    "    return win_rate, kl_divergence"
   ]
  },
  {
   "cell_type": "code",
   "execution_count": 11,
   "id": "ee128aa8-93a6-4742-84b6-b0edfce2c729",
   "metadata": {
    "execution": {
     "iopub.execute_input": "2025-03-05T22:55:10.959483Z",
     "iopub.status.busy": "2025-03-05T22:55:10.959279Z",
     "iopub.status.idle": "2025-03-05T22:55:10.976148Z",
     "shell.execute_reply": "2025-03-05T22:55:10.975561Z",
     "shell.execute_reply.started": "2025-03-05T22:55:10.959466Z"
    },
    "trusted": true
   },
   "outputs": [],
   "source": [
    "def plot_results(kl_values, win_rates, betas):\n",
    "    plt.figure(figsize=(8, 6))\n",
    "    plt.scatter(kl_values, win_rates, marker='o', color='b', label='DPO models')\n",
    "    plt.xlabel(\"KL divergence\")\n",
    "    plt.ylabel(\"Win rate\")\n",
    "    plt.title(\"Win rate vs KL divergence for different beta values\")\n",
    "    plt.legend()\n",
    "    plt.show()"
   ]
  },
  {
   "cell_type": "code",
   "execution_count": 12,
   "id": "fd82345b-4c86-4a74-8a38-78a6dc0b1376",
   "metadata": {
    "execution": {
     "iopub.execute_input": "2025-03-05T22:55:10.976988Z",
     "iopub.status.busy": "2025-03-05T22:55:10.976764Z",
     "iopub.status.idle": "2025-03-06T03:45:57.851019Z",
     "shell.execute_reply": "2025-03-06T03:45:57.849840Z",
     "shell.execute_reply.started": "2025-03-05T22:55:10.976970Z"
    },
    "trusted": true
   },
   "outputs": [
    {
     "data": {
      "application/vnd.jupyter.widget-view+json": {
       "model_id": "2e4f25c9d65b4eab950deae0de861b59",
       "version_major": 2,
       "version_minor": 0
      },
      "text/plain": [
       "README.md:   0%|          | 0.00/6.53k [00:00<?, ?B/s]"
      ]
     },
     "metadata": {},
     "output_type": "display_data"
    },
    {
     "data": {
      "application/vnd.jupyter.widget-view+json": {
       "model_id": "02d5595d4c7c4affaad4678e2d5dac18",
       "version_major": 2,
       "version_minor": 0
      },
      "text/plain": [
       "train_prefs-00000-of-00001.parquet:   0%|          | 0.00/226M [00:00<?, ?B/s]"
      ]
     },
     "metadata": {},
     "output_type": "display_data"
    },
    {
     "data": {
      "application/vnd.jupyter.widget-view+json": {
       "model_id": "694995460af14734b1890eaf75516ab4",
       "version_major": 2,
       "version_minor": 0
      },
      "text/plain": [
       "test_prefs-00000-of-00001.parquet:   0%|          | 0.00/7.29M [00:00<?, ?B/s]"
      ]
     },
     "metadata": {},
     "output_type": "display_data"
    },
    {
     "data": {
      "application/vnd.jupyter.widget-view+json": {
       "model_id": "d079f1f142f04cb2b7552bc89e1a31a6",
       "version_major": 2,
       "version_minor": 0
      },
      "text/plain": [
       "test_sft-00000-of-00001.parquet:   0%|          | 0.00/3.72M [00:00<?, ?B/s]"
      ]
     },
     "metadata": {},
     "output_type": "display_data"
    },
    {
     "data": {
      "application/vnd.jupyter.widget-view+json": {
       "model_id": "53916bbba09240e192e9b05ccdb2036e",
       "version_major": 2,
       "version_minor": 0
      },
      "text/plain": [
       "train_gen-00000-of-00001.parquet:   0%|          | 0.00/184M [00:00<?, ?B/s]"
      ]
     },
     "metadata": {},
     "output_type": "display_data"
    },
    {
     "data": {
      "application/vnd.jupyter.widget-view+json": {
       "model_id": "ccd0b3d93af94a9593c8ecd604914f8e",
       "version_major": 2,
       "version_minor": 0
      },
      "text/plain": [
       "test_gen-00000-of-00001.parquet:   0%|          | 0.00/3.02M [00:00<?, ?B/s]"
      ]
     },
     "metadata": {},
     "output_type": "display_data"
    },
    {
     "data": {
      "application/vnd.jupyter.widget-view+json": {
       "model_id": "e5feec6f389e45d1b135f789e3d328ca",
       "version_major": 2,
       "version_minor": 0
      },
      "text/plain": [
       "Generating train_prefs split:   0%|          | 0/61135 [00:00<?, ? examples/s]"
      ]
     },
     "metadata": {},
     "output_type": "display_data"
    },
    {
     "data": {
      "application/vnd.jupyter.widget-view+json": {
       "model_id": "7b29812181ac40e2b54028576282506f",
       "version_major": 2,
       "version_minor": 0
      },
      "text/plain": [
       "Generating train_sft split:   0%|          | 0/61135 [00:00<?, ? examples/s]"
      ]
     },
     "metadata": {},
     "output_type": "display_data"
    },
    {
     "data": {
      "application/vnd.jupyter.widget-view+json": {
       "model_id": "8c4f0991209b40e18916413e278b798d",
       "version_major": 2,
       "version_minor": 0
      },
      "text/plain": [
       "Generating test_prefs split:   0%|          | 0/2000 [00:00<?, ? examples/s]"
      ]
     },
     "metadata": {},
     "output_type": "display_data"
    },
    {
     "data": {
      "application/vnd.jupyter.widget-view+json": {
       "model_id": "30261ec77a3f40f9bf2342d0c3c5bf7a",
       "version_major": 2,
       "version_minor": 0
      },
      "text/plain": [
       "Generating test_sft split:   0%|          | 0/1000 [00:00<?, ? examples/s]"
      ]
     },
     "metadata": {},
     "output_type": "display_data"
    },
    {
     "data": {
      "application/vnd.jupyter.widget-view+json": {
       "model_id": "3d3a57d6bcad4937af1b5902c1bbaf20",
       "version_major": 2,
       "version_minor": 0
      },
      "text/plain": [
       "Generating train_gen split:   0%|          | 0/61135 [00:00<?, ? examples/s]"
      ]
     },
     "metadata": {},
     "output_type": "display_data"
    },
    {
     "data": {
      "application/vnd.jupyter.widget-view+json": {
       "model_id": "50cb9feb239342c6901c1f140a2f7e49",
       "version_major": 2,
       "version_minor": 0
      },
      "text/plain": [
       "Generating test_gen split:   0%|          | 0/1000 [00:00<?, ? examples/s]"
      ]
     },
     "metadata": {},
     "output_type": "display_data"
    },
    {
     "data": {
      "application/vnd.jupyter.widget-view+json": {
       "model_id": "37835f20b11c4ffc8627c50b71ea740a",
       "version_major": 2,
       "version_minor": 0
      },
      "text/plain": [
       "Map:   0%|          | 0/61135 [00:00<?, ? examples/s]"
      ]
     },
     "metadata": {},
     "output_type": "display_data"
    },
    {
     "data": {
      "application/vnd.jupyter.widget-view+json": {
       "model_id": "28902c2e491546ebab5525ed7be99f09",
       "version_major": 2,
       "version_minor": 0
      },
      "text/plain": [
       "Map:   0%|          | 0/2000 [00:00<?, ? examples/s]"
      ]
     },
     "metadata": {},
     "output_type": "display_data"
    },
    {
     "data": {
      "application/vnd.jupyter.widget-view+json": {
       "model_id": "abeccf1a6fe4459c90dbb9b72b6e3df7",
       "version_major": 2,
       "version_minor": 0
      },
      "text/plain": [
       "config.json:   0%|          | 0.00/861 [00:00<?, ?B/s]"
      ]
     },
     "metadata": {},
     "output_type": "display_data"
    },
    {
     "data": {
      "application/vnd.jupyter.widget-view+json": {
       "model_id": "ebf41604557f43e3b0f46dc38dc5eb8f",
       "version_major": 2,
       "version_minor": 0
      },
      "text/plain": [
       "model.safetensors:   0%|          | 0.00/269M [00:00<?, ?B/s]"
      ]
     },
     "metadata": {},
     "output_type": "display_data"
    },
    {
     "data": {
      "application/vnd.jupyter.widget-view+json": {
       "model_id": "efd8837fcabd42e2bf8ffd5242b9c316",
       "version_major": 2,
       "version_minor": 0
      },
      "text/plain": [
       "generation_config.json:   0%|          | 0.00/132 [00:00<?, ?B/s]"
      ]
     },
     "metadata": {},
     "output_type": "display_data"
    },
    {
     "data": {
      "application/vnd.jupyter.widget-view+json": {
       "model_id": "cc62f5051d16437da9a912edf7fd749e",
       "version_major": 2,
       "version_minor": 0
      },
      "text/plain": [
       "tokenizer_config.json:   0%|          | 0.00/3.76k [00:00<?, ?B/s]"
      ]
     },
     "metadata": {},
     "output_type": "display_data"
    },
    {
     "data": {
      "application/vnd.jupyter.widget-view+json": {
       "model_id": "6a8c498fb15b41c2a0a2d0849204bb58",
       "version_major": 2,
       "version_minor": 0
      },
      "text/plain": [
       "vocab.json:   0%|          | 0.00/801k [00:00<?, ?B/s]"
      ]
     },
     "metadata": {},
     "output_type": "display_data"
    },
    {
     "data": {
      "application/vnd.jupyter.widget-view+json": {
       "model_id": "7ecb0d040b2446158bda39743b83d310",
       "version_major": 2,
       "version_minor": 0
      },
      "text/plain": [
       "merges.txt:   0%|          | 0.00/466k [00:00<?, ?B/s]"
      ]
     },
     "metadata": {},
     "output_type": "display_data"
    },
    {
     "data": {
      "application/vnd.jupyter.widget-view+json": {
       "model_id": "f193d53962cc419baf5ac2bc765b3abf",
       "version_major": 2,
       "version_minor": 0
      },
      "text/plain": [
       "tokenizer.json:   0%|          | 0.00/2.10M [00:00<?, ?B/s]"
      ]
     },
     "metadata": {},
     "output_type": "display_data"
    },
    {
     "data": {
      "application/vnd.jupyter.widget-view+json": {
       "model_id": "92ba3b69f12042979d046d49631c2f30",
       "version_major": 2,
       "version_minor": 0
      },
      "text/plain": [
       "special_tokens_map.json:   0%|          | 0.00/655 [00:00<?, ?B/s]"
      ]
     },
     "metadata": {},
     "output_type": "display_data"
    },
    {
     "name": "stderr",
     "output_type": "stream",
     "text": [
      "<ipython-input-9-51a1249a3306>:13: FutureWarning: `tokenizer` is deprecated and removed starting from version 0.16.0 for `DPOTrainer.__init__`. Use `processing_class` instead.\n",
      "  trainer = DPOTrainer(\n"
     ]
    },
    {
     "data": {
      "application/vnd.jupyter.widget-view+json": {
       "model_id": "f25e95bfb2744ad3af1dfe1c38a9e499",
       "version_major": 2,
       "version_minor": 0
      },
      "text/plain": [
       "Extracting prompt in train dataset:   0%|          | 0/61135 [00:00<?, ? examples/s]"
      ]
     },
     "metadata": {},
     "output_type": "display_data"
    },
    {
     "data": {
      "application/vnd.jupyter.widget-view+json": {
       "model_id": "d489e898b95649aeb75a9868855325cb",
       "version_major": 2,
       "version_minor": 0
      },
      "text/plain": [
       "Applying chat template to train dataset:   0%|          | 0/61135 [00:00<?, ? examples/s]"
      ]
     },
     "metadata": {},
     "output_type": "display_data"
    },
    {
     "data": {
      "application/vnd.jupyter.widget-view+json": {
       "model_id": "7ecff42b6a934642a9d0c0adf9125a91",
       "version_major": 2,
       "version_minor": 0
      },
      "text/plain": [
       "Tokenizing train dataset:   0%|          | 0/61135 [00:00<?, ? examples/s]"
      ]
     },
     "metadata": {},
     "output_type": "display_data"
    },
    {
     "data": {
      "text/html": [
       "\n",
       "    <div>\n",
       "      \n",
       "      <progress value='200' max='200' style='width:300px; height:20px; vertical-align: middle;'></progress>\n",
       "      [200/200 1:06:25, Epoch 0/1]\n",
       "    </div>\n",
       "    <table border=\"1\" class=\"dataframe\">\n",
       "  <thead>\n",
       " <tr style=\"text-align: left;\">\n",
       "      <th>Step</th>\n",
       "      <th>Training Loss</th>\n",
       "    </tr>\n",
       "  </thead>\n",
       "  <tbody>\n",
       "    <tr>\n",
       "      <td>10</td>\n",
       "      <td>0.689400</td>\n",
       "    </tr>\n",
       "    <tr>\n",
       "      <td>20</td>\n",
       "      <td>0.657700</td>\n",
       "    </tr>\n",
       "    <tr>\n",
       "      <td>30</td>\n",
       "      <td>0.675700</td>\n",
       "    </tr>\n",
       "    <tr>\n",
       "      <td>40</td>\n",
       "      <td>0.633500</td>\n",
       "    </tr>\n",
       "    <tr>\n",
       "      <td>50</td>\n",
       "      <td>0.679300</td>\n",
       "    </tr>\n",
       "    <tr>\n",
       "      <td>60</td>\n",
       "      <td>0.642800</td>\n",
       "    </tr>\n",
       "    <tr>\n",
       "      <td>70</td>\n",
       "      <td>0.629700</td>\n",
       "    </tr>\n",
       "    <tr>\n",
       "      <td>80</td>\n",
       "      <td>0.662500</td>\n",
       "    </tr>\n",
       "    <tr>\n",
       "      <td>90</td>\n",
       "      <td>0.680100</td>\n",
       "    </tr>\n",
       "    <tr>\n",
       "      <td>100</td>\n",
       "      <td>0.603500</td>\n",
       "    </tr>\n",
       "    <tr>\n",
       "      <td>110</td>\n",
       "      <td>0.622200</td>\n",
       "    </tr>\n",
       "    <tr>\n",
       "      <td>120</td>\n",
       "      <td>0.643200</td>\n",
       "    </tr>\n",
       "    <tr>\n",
       "      <td>130</td>\n",
       "      <td>0.617800</td>\n",
       "    </tr>\n",
       "    <tr>\n",
       "      <td>140</td>\n",
       "      <td>0.603900</td>\n",
       "    </tr>\n",
       "    <tr>\n",
       "      <td>150</td>\n",
       "      <td>0.634500</td>\n",
       "    </tr>\n",
       "    <tr>\n",
       "      <td>160</td>\n",
       "      <td>0.667600</td>\n",
       "    </tr>\n",
       "    <tr>\n",
       "      <td>170</td>\n",
       "      <td>0.636800</td>\n",
       "    </tr>\n",
       "    <tr>\n",
       "      <td>180</td>\n",
       "      <td>0.601000</td>\n",
       "    </tr>\n",
       "    <tr>\n",
       "      <td>190</td>\n",
       "      <td>0.639600</td>\n",
       "    </tr>\n",
       "    <tr>\n",
       "      <td>200</td>\n",
       "      <td>0.599600</td>\n",
       "    </tr>\n",
       "  </tbody>\n",
       "</table><p>"
      ],
      "text/plain": [
       "<IPython.core.display.HTML object>"
      ]
     },
     "metadata": {},
     "output_type": "display_data"
    },
    {
     "data": {
      "application/vnd.jupyter.widget-view+json": {
       "model_id": "95a9417c133e4754ab95d21d723232f6",
       "version_major": 2,
       "version_minor": 0
      },
      "text/plain": [
       "Fetching 11 files:   0%|          | 0/11 [00:00<?, ?it/s]"
      ]
     },
     "metadata": {},
     "output_type": "display_data"
    },
    {
     "data": {
      "application/vnd.jupyter.widget-view+json": {
       "model_id": "4c99f2058a98442698e0f531743325d0",
       "version_major": 2,
       "version_minor": 0
      },
      "text/plain": [
       "special_tokens_map.json:   0%|          | 0.00/286 [00:00<?, ?B/s]"
      ]
     },
     "metadata": {},
     "output_type": "display_data"
    },
    {
     "data": {
      "application/vnd.jupyter.widget-view+json": {
       "model_id": "1241eb8f7f714f5491c318ad0fade7f4",
       "version_major": 2,
       "version_minor": 0
      },
      "text/plain": [
       "model.safetensors:   0%|          | 0.00/1.74G [00:00<?, ?B/s]"
      ]
     },
     "metadata": {},
     "output_type": "display_data"
    },
    {
     "data": {
      "application/vnd.jupyter.widget-view+json": {
       "model_id": "42d3de9abc0a4c2c86b8c76ce93836b7",
       "version_major": 2,
       "version_minor": 0
      },
      "text/plain": [
       "ranker_config.json:   0%|          | 0.00/508 [00:00<?, ?B/s]"
      ]
     },
     "metadata": {},
     "output_type": "display_data"
    },
    {
     "data": {
      "application/vnd.jupyter.widget-view+json": {
       "model_id": "223ee1b10f6142b18ff334e055ca4688",
       "version_major": 2,
       "version_minor": 0
      },
      "text/plain": [
       "added_tokens.json:   0%|          | 0.00/130 [00:00<?, ?B/s]"
      ]
     },
     "metadata": {},
     "output_type": "display_data"
    },
    {
     "data": {
      "application/vnd.jupyter.widget-view+json": {
       "model_id": "79788f84afc7448ea9315a4946cd312f",
       "version_major": 2,
       "version_minor": 0
      },
      "text/plain": [
       ".gitattributes:   0%|          | 0.00/1.52k [00:00<?, ?B/s]"
      ]
     },
     "metadata": {},
     "output_type": "display_data"
    },
    {
     "data": {
      "application/vnd.jupyter.widget-view+json": {
       "model_id": "50b46fdbdf5940089a13da74d2c0459c",
       "version_major": 2,
       "version_minor": 0
      },
      "text/plain": [
       "config.json:   0%|          | 0.00/508 [00:00<?, ?B/s]"
      ]
     },
     "metadata": {},
     "output_type": "display_data"
    },
    {
     "data": {
      "application/vnd.jupyter.widget-view+json": {
       "model_id": "b804d54152a747cabb3eb5497f2bd156",
       "version_major": 2,
       "version_minor": 0
      },
      "text/plain": [
       "spm.model:   0%|          | 0.00/2.46M [00:00<?, ?B/s]"
      ]
     },
     "metadata": {},
     "output_type": "display_data"
    },
    {
     "data": {
      "application/vnd.jupyter.widget-view+json": {
       "model_id": "7f8919deb67e44729b8bc147a215c1a2",
       "version_major": 2,
       "version_minor": 0
      },
      "text/plain": [
       "README.md:   0%|          | 0.00/13.7k [00:00<?, ?B/s]"
      ]
     },
     "metadata": {},
     "output_type": "display_data"
    },
    {
     "data": {
      "application/vnd.jupyter.widget-view+json": {
       "model_id": "bfadfdf639ba4358bc23e42155490dd1",
       "version_major": 2,
       "version_minor": 0
      },
      "text/plain": [
       "tokenizer.json:   0%|          | 0.00/8.66M [00:00<?, ?B/s]"
      ]
     },
     "metadata": {},
     "output_type": "display_data"
    },
    {
     "data": {
      "application/vnd.jupyter.widget-view+json": {
       "model_id": "d67efc9bdac548a3a3805b4e2ee90777",
       "version_major": 2,
       "version_minor": 0
      },
      "text/plain": [
       "training_args.bin:   0%|          | 0.00/4.79k [00:00<?, ?B/s]"
      ]
     },
     "metadata": {},
     "output_type": "display_data"
    },
    {
     "data": {
      "application/vnd.jupyter.widget-view+json": {
       "model_id": "a82b816b30874fb981385b57874e5083",
       "version_major": 2,
       "version_minor": 0
      },
      "text/plain": [
       "tokenizer_config.json:   0%|          | 0.00/2.00k [00:00<?, ?B/s]"
      ]
     },
     "metadata": {},
     "output_type": "display_data"
    },
    {
     "name": "stderr",
     "output_type": "stream",
     "text": [
      "/usr/local/lib/python3.10/dist-packages/dataclasses_json/core.py:201: RuntimeWarning: 'NoneType' object value of non-optional type load_checkpoint detected when decoding RankerConfig.\n",
      "  warnings.warn(\n",
      "/usr/local/lib/python3.10/dist-packages/dataclasses_json/core.py:201: RuntimeWarning: 'NoneType' object value of non-optional type device detected when decoding RankerConfig.\n",
      "  warnings.warn(\n"
     ]
    },
    {
     "data": {
      "application/vnd.jupyter.widget-view+json": {
       "model_id": "e4c9c088f2d741ad8bd14bd20ebc07a0",
       "version_major": 2,
       "version_minor": 0
      },
      "text/plain": [
       "tokenizer_config.json:   0%|          | 0.00/52.0 [00:00<?, ?B/s]"
      ]
     },
     "metadata": {},
     "output_type": "display_data"
    },
    {
     "data": {
      "application/vnd.jupyter.widget-view+json": {
       "model_id": "f70aba836f084da08e1efb834e413079",
       "version_major": 2,
       "version_minor": 0
      },
      "text/plain": [
       "config.json:   0%|          | 0.00/580 [00:00<?, ?B/s]"
      ]
     },
     "metadata": {},
     "output_type": "display_data"
    },
    {
     "data": {
      "application/vnd.jupyter.widget-view+json": {
       "model_id": "7352e6c811154d4ea717a8cce5725fa4",
       "version_major": 2,
       "version_minor": 0
      },
      "text/plain": [
       "spm.model:   0%|          | 0.00/2.46M [00:00<?, ?B/s]"
      ]
     },
     "metadata": {},
     "output_type": "display_data"
    },
    {
     "name": "stderr",
     "output_type": "stream",
     "text": [
      "/usr/local/lib/python3.10/dist-packages/transformers/convert_slow_tokenizer.py:561: UserWarning: The sentencepiece tokenizer that you are converting to a fast tokenizer uses the byte fallback option which is not implemented in the fast tokenizers. In practice this means that the fast version of the tokenizer can produce unknown tokens whereas the sentencepiece version would have converted these unknown tokens into a sequence of byte tokens matching the original piece of text.\n",
      "  warnings.warn(\n"
     ]
    },
    {
     "data": {
      "application/vnd.jupyter.widget-view+json": {
       "model_id": "0bbb0905eb2d4f0c8beab50d4b09727d",
       "version_major": 2,
       "version_minor": 0
      },
      "text/plain": [
       "pytorch_model.bin:   0%|          | 0.00/874M [00:00<?, ?B/s]"
      ]
     },
     "metadata": {},
     "output_type": "display_data"
    },
    {
     "name": "stdout",
     "output_type": "stream",
     "text": [
      "Successfully loaded ranker from  /root/.cache/huggingface/hub/llm-blender/PairRM\n"
     ]
    },
    {
     "name": "stderr",
     "output_type": "stream",
     "text": [
      "Ranking candidates: 100%|██████████| 100/100 [00:31<00:00,  3.21it/s]\n"
     ]
    },
    {
     "name": "stdout",
     "output_type": "stream",
     "text": [
      "0.22 0.0531486407853663\n"
     ]
    },
    {
     "name": "stderr",
     "output_type": "stream",
     "text": [
      "<ipython-input-9-51a1249a3306>:13: FutureWarning: `tokenizer` is deprecated and removed starting from version 0.16.0 for `DPOTrainer.__init__`. Use `processing_class` instead.\n",
      "  trainer = DPOTrainer(\n"
     ]
    },
    {
     "data": {
      "text/html": [
       "\n",
       "    <div>\n",
       "      \n",
       "      <progress value='200' max='200' style='width:300px; height:20px; vertical-align: middle;'></progress>\n",
       "      [200/200 1:06:28, Epoch 0/1]\n",
       "    </div>\n",
       "    <table border=\"1\" class=\"dataframe\">\n",
       "  <thead>\n",
       " <tr style=\"text-align: left;\">\n",
       "      <th>Step</th>\n",
       "      <th>Training Loss</th>\n",
       "    </tr>\n",
       "  </thead>\n",
       "  <tbody>\n",
       "    <tr>\n",
       "      <td>10</td>\n",
       "      <td>0.697700</td>\n",
       "    </tr>\n",
       "    <tr>\n",
       "      <td>20</td>\n",
       "      <td>0.664700</td>\n",
       "    </tr>\n",
       "    <tr>\n",
       "      <td>30</td>\n",
       "      <td>0.707600</td>\n",
       "    </tr>\n",
       "    <tr>\n",
       "      <td>40</td>\n",
       "      <td>0.655700</td>\n",
       "    </tr>\n",
       "    <tr>\n",
       "      <td>50</td>\n",
       "      <td>0.707100</td>\n",
       "    </tr>\n",
       "    <tr>\n",
       "      <td>60</td>\n",
       "      <td>0.656200</td>\n",
       "    </tr>\n",
       "    <tr>\n",
       "      <td>70</td>\n",
       "      <td>0.642500</td>\n",
       "    </tr>\n",
       "    <tr>\n",
       "      <td>80</td>\n",
       "      <td>0.698100</td>\n",
       "    </tr>\n",
       "    <tr>\n",
       "      <td>90</td>\n",
       "      <td>0.715200</td>\n",
       "    </tr>\n",
       "    <tr>\n",
       "      <td>100</td>\n",
       "      <td>0.627200</td>\n",
       "    </tr>\n",
       "    <tr>\n",
       "      <td>110</td>\n",
       "      <td>0.624400</td>\n",
       "    </tr>\n",
       "    <tr>\n",
       "      <td>120</td>\n",
       "      <td>0.670100</td>\n",
       "    </tr>\n",
       "    <tr>\n",
       "      <td>130</td>\n",
       "      <td>0.624900</td>\n",
       "    </tr>\n",
       "    <tr>\n",
       "      <td>140</td>\n",
       "      <td>0.603900</td>\n",
       "    </tr>\n",
       "    <tr>\n",
       "      <td>150</td>\n",
       "      <td>0.660700</td>\n",
       "    </tr>\n",
       "    <tr>\n",
       "      <td>160</td>\n",
       "      <td>0.699200</td>\n",
       "    </tr>\n",
       "    <tr>\n",
       "      <td>170</td>\n",
       "      <td>0.674500</td>\n",
       "    </tr>\n",
       "    <tr>\n",
       "      <td>180</td>\n",
       "      <td>0.609000</td>\n",
       "    </tr>\n",
       "    <tr>\n",
       "      <td>190</td>\n",
       "      <td>0.654000</td>\n",
       "    </tr>\n",
       "    <tr>\n",
       "      <td>200</td>\n",
       "      <td>0.600500</td>\n",
       "    </tr>\n",
       "  </tbody>\n",
       "</table><p>"
      ],
      "text/plain": [
       "<IPython.core.display.HTML object>"
      ]
     },
     "metadata": {},
     "output_type": "display_data"
    },
    {
     "name": "stderr",
     "output_type": "stream",
     "text": [
      "/usr/local/lib/python3.10/dist-packages/dataclasses_json/core.py:201: RuntimeWarning: 'NoneType' object value of non-optional type load_checkpoint detected when decoding RankerConfig.\n",
      "  warnings.warn(\n",
      "/usr/local/lib/python3.10/dist-packages/dataclasses_json/core.py:201: RuntimeWarning: 'NoneType' object value of non-optional type device detected when decoding RankerConfig.\n",
      "  warnings.warn(\n",
      "/usr/local/lib/python3.10/dist-packages/transformers/convert_slow_tokenizer.py:561: UserWarning: The sentencepiece tokenizer that you are converting to a fast tokenizer uses the byte fallback option which is not implemented in the fast tokenizers. In practice this means that the fast version of the tokenizer can produce unknown tokens whereas the sentencepiece version would have converted these unknown tokens into a sequence of byte tokens matching the original piece of text.\n",
      "  warnings.warn(\n"
     ]
    },
    {
     "name": "stdout",
     "output_type": "stream",
     "text": [
      "Successfully loaded ranker from  /root/.cache/huggingface/hub/llm-blender/PairRM\n"
     ]
    },
    {
     "name": "stderr",
     "output_type": "stream",
     "text": [
      "Ranking candidates: 100%|██████████| 100/100 [00:28<00:00,  3.50it/s]\n"
     ]
    },
    {
     "name": "stdout",
     "output_type": "stream",
     "text": [
      "0.23 0.0349325093254447\n"
     ]
    },
    {
     "name": "stderr",
     "output_type": "stream",
     "text": [
      "<ipython-input-9-51a1249a3306>:13: FutureWarning: `tokenizer` is deprecated and removed starting from version 0.16.0 for `DPOTrainer.__init__`. Use `processing_class` instead.\n",
      "  trainer = DPOTrainer(\n"
     ]
    },
    {
     "data": {
      "text/html": [
       "\n",
       "    <div>\n",
       "      \n",
       "      <progress value='200' max='200' style='width:300px; height:20px; vertical-align: middle;'></progress>\n",
       "      [200/200 1:06:31, Epoch 0/1]\n",
       "    </div>\n",
       "    <table border=\"1\" class=\"dataframe\">\n",
       "  <thead>\n",
       " <tr style=\"text-align: left;\">\n",
       "      <th>Step</th>\n",
       "      <th>Training Loss</th>\n",
       "    </tr>\n",
       "  </thead>\n",
       "  <tbody>\n",
       "    <tr>\n",
       "      <td>10</td>\n",
       "      <td>1.381300</td>\n",
       "    </tr>\n",
       "    <tr>\n",
       "      <td>20</td>\n",
       "      <td>1.783500</td>\n",
       "    </tr>\n",
       "    <tr>\n",
       "      <td>30</td>\n",
       "      <td>1.960600</td>\n",
       "    </tr>\n",
       "    <tr>\n",
       "      <td>40</td>\n",
       "      <td>1.721200</td>\n",
       "    </tr>\n",
       "    <tr>\n",
       "      <td>50</td>\n",
       "      <td>1.847100</td>\n",
       "    </tr>\n",
       "    <tr>\n",
       "      <td>60</td>\n",
       "      <td>1.928700</td>\n",
       "    </tr>\n",
       "    <tr>\n",
       "      <td>70</td>\n",
       "      <td>1.761100</td>\n",
       "    </tr>\n",
       "    <tr>\n",
       "      <td>80</td>\n",
       "      <td>2.213200</td>\n",
       "    </tr>\n",
       "    <tr>\n",
       "      <td>90</td>\n",
       "      <td>2.016100</td>\n",
       "    </tr>\n",
       "    <tr>\n",
       "      <td>100</td>\n",
       "      <td>1.681300</td>\n",
       "    </tr>\n",
       "    <tr>\n",
       "      <td>110</td>\n",
       "      <td>1.554500</td>\n",
       "    </tr>\n",
       "    <tr>\n",
       "      <td>120</td>\n",
       "      <td>1.964400</td>\n",
       "    </tr>\n",
       "    <tr>\n",
       "      <td>130</td>\n",
       "      <td>1.621900</td>\n",
       "    </tr>\n",
       "    <tr>\n",
       "      <td>140</td>\n",
       "      <td>1.691200</td>\n",
       "    </tr>\n",
       "    <tr>\n",
       "      <td>150</td>\n",
       "      <td>1.802300</td>\n",
       "    </tr>\n",
       "    <tr>\n",
       "      <td>160</td>\n",
       "      <td>1.953400</td>\n",
       "    </tr>\n",
       "    <tr>\n",
       "      <td>170</td>\n",
       "      <td>2.047400</td>\n",
       "    </tr>\n",
       "    <tr>\n",
       "      <td>180</td>\n",
       "      <td>1.491200</td>\n",
       "    </tr>\n",
       "    <tr>\n",
       "      <td>190</td>\n",
       "      <td>1.829700</td>\n",
       "    </tr>\n",
       "    <tr>\n",
       "      <td>200</td>\n",
       "      <td>1.330400</td>\n",
       "    </tr>\n",
       "  </tbody>\n",
       "</table><p>"
      ],
      "text/plain": [
       "<IPython.core.display.HTML object>"
      ]
     },
     "metadata": {},
     "output_type": "display_data"
    },
    {
     "name": "stderr",
     "output_type": "stream",
     "text": [
      "/usr/local/lib/python3.10/dist-packages/dataclasses_json/core.py:201: RuntimeWarning: 'NoneType' object value of non-optional type load_checkpoint detected when decoding RankerConfig.\n",
      "  warnings.warn(\n",
      "/usr/local/lib/python3.10/dist-packages/dataclasses_json/core.py:201: RuntimeWarning: 'NoneType' object value of non-optional type device detected when decoding RankerConfig.\n",
      "  warnings.warn(\n",
      "/usr/local/lib/python3.10/dist-packages/transformers/convert_slow_tokenizer.py:561: UserWarning: The sentencepiece tokenizer that you are converting to a fast tokenizer uses the byte fallback option which is not implemented in the fast tokenizers. In practice this means that the fast version of the tokenizer can produce unknown tokens whereas the sentencepiece version would have converted these unknown tokens into a sequence of byte tokens matching the original piece of text.\n",
      "  warnings.warn(\n",
      "Error during conversion: ChunkedEncodingError(ProtocolError('Response ended prematurely'))\n"
     ]
    },
    {
     "name": "stdout",
     "output_type": "stream",
     "text": [
      "Successfully loaded ranker from  /root/.cache/huggingface/hub/llm-blender/PairRM\n"
     ]
    },
    {
     "name": "stderr",
     "output_type": "stream",
     "text": [
      "Ranking candidates: 100%|██████████| 100/100 [00:28<00:00,  3.54it/s]\n"
     ]
    },
    {
     "name": "stdout",
     "output_type": "stream",
     "text": [
      "0.09 0.015047360840253533\n"
     ]
    },
    {
     "name": "stderr",
     "output_type": "stream",
     "text": [
      "<ipython-input-9-51a1249a3306>:13: FutureWarning: `tokenizer` is deprecated and removed starting from version 0.16.0 for `DPOTrainer.__init__`. Use `processing_class` instead.\n",
      "  trainer = DPOTrainer(\n"
     ]
    },
    {
     "data": {
      "text/html": [
       "\n",
       "    <div>\n",
       "      \n",
       "      <progress value='200' max='200' style='width:300px; height:20px; vertical-align: middle;'></progress>\n",
       "      [200/200 1:06:29, Epoch 0/1]\n",
       "    </div>\n",
       "    <table border=\"1\" class=\"dataframe\">\n",
       "  <thead>\n",
       " <tr style=\"text-align: left;\">\n",
       "      <th>Step</th>\n",
       "      <th>Training Loss</th>\n",
       "    </tr>\n",
       "  </thead>\n",
       "  <tbody>\n",
       "    <tr>\n",
       "      <td>10</td>\n",
       "      <td>6.077900</td>\n",
       "    </tr>\n",
       "    <tr>\n",
       "      <td>20</td>\n",
       "      <td>8.246100</td>\n",
       "    </tr>\n",
       "    <tr>\n",
       "      <td>30</td>\n",
       "      <td>8.367300</td>\n",
       "    </tr>\n",
       "    <tr>\n",
       "      <td>40</td>\n",
       "      <td>7.798500</td>\n",
       "    </tr>\n",
       "    <tr>\n",
       "      <td>50</td>\n",
       "      <td>8.708800</td>\n",
       "    </tr>\n",
       "    <tr>\n",
       "      <td>60</td>\n",
       "      <td>9.561200</td>\n",
       "    </tr>\n",
       "    <tr>\n",
       "      <td>70</td>\n",
       "      <td>8.037000</td>\n",
       "    </tr>\n",
       "    <tr>\n",
       "      <td>80</td>\n",
       "      <td>10.366000</td>\n",
       "    </tr>\n",
       "    <tr>\n",
       "      <td>90</td>\n",
       "      <td>10.107700</td>\n",
       "    </tr>\n",
       "    <tr>\n",
       "      <td>100</td>\n",
       "      <td>8.485400</td>\n",
       "    </tr>\n",
       "    <tr>\n",
       "      <td>110</td>\n",
       "      <td>6.606000</td>\n",
       "    </tr>\n",
       "    <tr>\n",
       "      <td>120</td>\n",
       "      <td>8.751200</td>\n",
       "    </tr>\n",
       "    <tr>\n",
       "      <td>130</td>\n",
       "      <td>7.015200</td>\n",
       "    </tr>\n",
       "    <tr>\n",
       "      <td>140</td>\n",
       "      <td>7.625400</td>\n",
       "    </tr>\n",
       "    <tr>\n",
       "      <td>150</td>\n",
       "      <td>8.418100</td>\n",
       "    </tr>\n",
       "    <tr>\n",
       "      <td>160</td>\n",
       "      <td>8.638000</td>\n",
       "    </tr>\n",
       "    <tr>\n",
       "      <td>170</td>\n",
       "      <td>9.752000</td>\n",
       "    </tr>\n",
       "    <tr>\n",
       "      <td>180</td>\n",
       "      <td>6.743400</td>\n",
       "    </tr>\n",
       "    <tr>\n",
       "      <td>190</td>\n",
       "      <td>8.997200</td>\n",
       "    </tr>\n",
       "    <tr>\n",
       "      <td>200</td>\n",
       "      <td>6.231400</td>\n",
       "    </tr>\n",
       "  </tbody>\n",
       "</table><p>"
      ],
      "text/plain": [
       "<IPython.core.display.HTML object>"
      ]
     },
     "metadata": {},
     "output_type": "display_data"
    },
    {
     "name": "stderr",
     "output_type": "stream",
     "text": [
      "/usr/local/lib/python3.10/dist-packages/dataclasses_json/core.py:201: RuntimeWarning: 'NoneType' object value of non-optional type load_checkpoint detected when decoding RankerConfig.\n",
      "  warnings.warn(\n",
      "/usr/local/lib/python3.10/dist-packages/dataclasses_json/core.py:201: RuntimeWarning: 'NoneType' object value of non-optional type device detected when decoding RankerConfig.\n",
      "  warnings.warn(\n",
      "/usr/local/lib/python3.10/dist-packages/transformers/convert_slow_tokenizer.py:561: UserWarning: The sentencepiece tokenizer that you are converting to a fast tokenizer uses the byte fallback option which is not implemented in the fast tokenizers. In practice this means that the fast version of the tokenizer can produce unknown tokens whereas the sentencepiece version would have converted these unknown tokens into a sequence of byte tokens matching the original piece of text.\n",
      "  warnings.warn(\n"
     ]
    },
    {
     "name": "stdout",
     "output_type": "stream",
     "text": [
      "Successfully loaded ranker from  /root/.cache/huggingface/hub/llm-blender/PairRM\n"
     ]
    },
    {
     "name": "stderr",
     "output_type": "stream",
     "text": [
      "Ranking candidates: 100%|██████████| 100/100 [00:28<00:00,  3.52it/s]\n"
     ]
    },
    {
     "name": "stdout",
     "output_type": "stream",
     "text": [
      "0.12 0.014055692199617624\n"
     ]
    },
    {
     "data": {
      "image/png": "[encoded data removed]",
      "text/plain": [
       "<Figure size 800x600 with 1 Axes>"
      ]
     },
     "metadata": {},
     "output_type": "display_data"
    }
   ],
   "source": [
    "train_dataset, test_dataset = load_and_preprocess_dataset()\n",
    "model, tokenizer = initialize_models_and_tokenizer()\n",
    "\n",
    "test_dataset = test_dataset.select(range(100))\n",
    "prompts = test_dataset[\"prompt\"]\n",
    "responses_sft = generate_responses(model, tokenizer, prompts)\n",
    "\n",
    "betas = [0.05, 0.1, 1, 5]\n",
    "win_rates = []\n",
    "kl_values = []\n",
    "\n",
    "for beta in betas:\n",
    "    gc.collect()\n",
    "    torch.cuda.empty_cache()\n",
    "    model = AutoModelForCausalLM.from_pretrained(MODEL_NAME)\n",
    "    trainer = train_dpo_model(model, tokenizer, train_dataset, beta)\n",
    "\n",
    "    gc.collect()\n",
    "    torch.cuda.empty_cache()\n",
    "\n",
    "    model = AutoModelForCausalLM.from_pretrained(MODEL_NAME).to(DEVICE)\n",
    "    model_dpo = AutoModelForCausalLM.from_pretrained(f\"dpo_model_beta_{beta}\").to(DEVICE)\n",
    "\n",
    "    blender = llm_blender.Blender()\n",
    "    blender.loadranker(\"llm-blender/PairRM\")\n",
    "\n",
    "    win_rate, kl_divergence = evaluate_model(model, model_dpo, tokenizer, prompts, blender, responses_sft)\n",
    "    print(win_rate, kl_divergence )\n",
    "    win_rates.append(win_rate)\n",
    "    kl_values.append(kl_divergence)\n",
    "\n",
    "plot_results(kl_values, win_rates, betas)\n"
   ]
  },
  {
   "cell_type": "code",
   "execution_count": 13,
   "id": "4801b893-8f5b-4545-89ca-9c09f40d2ebd",
   "metadata": {
    "execution": {
     "iopub.execute_input": "2025-03-06T03:45:57.852708Z",
     "iopub.status.busy": "2025-03-06T03:45:57.852318Z",
     "iopub.status.idle": "2025-03-06T03:45:57.872710Z",
     "shell.execute_reply": "2025-03-06T03:45:57.871769Z",
     "shell.execute_reply.started": "2025-03-06T03:45:57.852668Z"
    },
    "trusted": true
   },
   "outputs": [],
   "source": [
    "class CustomDPOTrainer(DPOTrainer):\n",
    "    def __init__(self, *args, divergence_type=\"forward_kl\", alpha=0.5, **kwargs):\n",
    "        super().__init__(*args, **kwargs)\n",
    "        self.divergence_type = divergence_type\n",
    "        self.alpha = alpha\n",
    "        self.beta = 0.1\n",
    "\n",
    "    def dpo_loss(\n",
    "        self,\n",
    "        chosen_logps: torch.FloatTensor,\n",
    "        rejected_logps: torch.FloatTensor,\n",
    "        ref_chosen_logps: torch.FloatTensor,\n",
    "        ref_rejected_logps: torch.FloatTensor,\n",
    "    ) -> tuple[torch.FloatTensor, torch.FloatTensor, torch.FloatTensor]:\n",
    "        \"\"\"\n",
    "        Compute the DPO loss for a batch of policy and reference model log probabilities.\n",
    "    \n",
    "        Args:\n",
    "            chosen_logps (`torch.FloatTensor`):\n",
    "                Log probabilities of the model for the chosen responses. Shape: `(batch_size,)`.\n",
    "            rejected_logps (`torch.FloatTensor`):\n",
    "                Log probabilities of the model for the rejected responses. Shape: `(batch_size,)`.\n",
    "            ref_chosen_logps (`torch.FloatTensor`):\n",
    "                Log probabilities of the reference model for the chosen responses. Shape: `(batch_size,)`.\n",
    "            ref_rejected_logps (`torch.FloatTensor`):\n",
    "                Log probabilities of the reference model for the rejected responses. Shape: `(batch_size,)`.\n",
    "    \n",
    "        Returns:\n",
    "            A tuple of three tensors: `(losses, chosen_rewards, rejected_rewards)`.\n",
    "            The losses tensor contains the DPO loss for each example in the batch.\n",
    "            The `chosen_rewards` and `rejected_rewards` tensors contain the rewards for the chosen and rejected\n",
    "            responses, respectively.\n",
    "        \"\"\"\n",
    "        device = self.accelerator.device\n",
    "    \n",
    "        # Get the log ratios for the chosen and rejected responses\n",
    "        chosen_logratios = chosen_logps.to(device) - (not self.reference_free) * ref_chosen_logps.to(device)\n",
    "        rejected_logratios = rejected_logps.to(device) - (not self.reference_free) * ref_rejected_logps.to(device)\n",
    "    \n",
    "        # if self.f_divergence_type == FDivergenceType.ALPHA_DIVERGENCE.value:\n",
    "        #     # The alpha-divergence formula: (1 - u^-alpha) / alpha\n",
    "        #     # The divergence difference between the chosen and rejected sample is:\n",
    "        #     #     (1 - u[w]^-alpha) / alpha - (1 - u[l]^-alpha) / alpha\n",
    "        #     #        = (u[l]^-alpha - u[w]^-alpha) / alpha\n",
    "        #     # where u[w] and u[l] are the policy/reference probability ratios\n",
    "        #     # for the chosen and rejected samples, respectively.\n",
    "        #     alpha_coef = FDivergenceConstants.ALPHA_DIVERGENCE_COEF_DEFAULT\n",
    "        #     if self.f_divergence_params and FDivergenceConstants.ALPHA_DIVERGENCE_COEF_KEY in self.f_divergence_params:\n",
    "        #         alpha_coef = float(self.f_divergence_params[FDivergenceConstants.ALPHA_DIVERGENCE_COEF_KEY])\n",
    "        #     logits = (cap_exp(rejected_logratios * -alpha_coef) - cap_exp(chosen_logratios * -alpha_coef)) / alpha_coef\n",
    "    \n",
    "        if self.f_divergence_type == \"forward_kl\":\n",
    "            # Прямая KL-дивергенция: f(u) = -1/u\n",
    "            pi_ratio_w = torch.exp(chosen_logratios)\n",
    "            pi_ratio_l = torch.exp(rejected_logratios)\n",
    "            logits = self.beta * (-1 / pi_ratio_w + 1 / pi_ratio_l)\n",
    "    \n",
    "        elif self.f_divergence_type == \"reverse_kl\":\n",
    "            # Обратная KL-дивергенция: f(u) = log(u + 1)\n",
    "            pi_ratio_w = torch.exp(chosen_logratios)\n",
    "            pi_ratio_l = torch.exp(rejected_logratios)\n",
    "            logits = self.beta * (torch.log(pi_ratio_w + 1) - torch.log(pi_ratio_l + 1))\n",
    "    \n",
    "        elif self.f_divergence_type == \"alpha_div\":\n",
    "            # Альфа-дивергенция: f(u) = (1 - u^-alpha) / alpha\n",
    "            alpha_coef = self.alpha  # Используем alpha из параметров\n",
    "            pi_ratio_w = torch.exp(chosen_logratios)\n",
    "            pi_ratio_l = torch.exp(rejected_logratios)\n",
    "            logits = self.beta * ((1 - pi_ratio_l ** (-alpha_coef)) / alpha_coef - (1 - pi_ratio_w ** (-alpha_coef)) / alpha_coef)\n",
    "    \n",
    "        elif self.f_divergence_type == \"js\":\n",
    "            # JS-дивергенция: f(u) = log(2u / (1 + u))\n",
    "            pi_ratio_w = torch.exp(chosen_logratios)\n",
    "            pi_ratio_l = torch.exp(rejected_logratios)\n",
    "            logits = self.beta * (torch.log(2 * pi_ratio_w / (1 + pi_ratio_w)) - torch.log(2 * pi_ratio_l / (1 + pi_ratio_l)))\n",
    "    \n",
    "        else:\n",
    "            # Оригинальная логика для других типов дивергенций\n",
    "            logratios = chosen_logps - rejected_logps\n",
    "            if self.reference_free:\n",
    "                ref_logratios = torch.tensor([0], dtype=logratios.dtype, device=logratios.device)\n",
    "            else:\n",
    "                ref_logratios = ref_chosen_logps - ref_rejected_logps\n",
    "    \n",
    "            logratios = logratios.to(self.accelerator.device)\n",
    "            ref_logratios = ref_logratios.to(self.accelerator.device)\n",
    "            logits = logratios - ref_logratios\n",
    "    \n",
    "            # if self.f_divergence_type == FDivergenceType.JS_DIVERGENCE.value:\n",
    "            #     # The js-divergence formula: log(2 * u / (1 + u))\n",
    "            #     # The divergence difference between the chosen and rejected sample is:\n",
    "            #     #     log(2 * u[w] / (1 + u[w])) - log(2 * u[l] / (1 + u[l]))\n",
    "            #     #       = log(u[w]) - log(u[l]) - (log(1 + u[w]) - log(1 + u[l]))\n",
    "            #     # where u[w] and u[l] are the policy/reference probability ratios\n",
    "            #     # for the chosen and rejected samples, respectively.\n",
    "            #     logits -= F.softplus(chosen_logratios) - F.softplus(rejected_logratios)\n",
    "    \n",
    "        # The beta is a temperature parameter for the DPO loss, typically something in the range of 0.1 to 0.5.\n",
    "        # We ignore the reference model as beta -> 0. The label_smoothing parameter encodes our uncertainty about the\n",
    "        # labels and calculates a conservative DPO loss.\n",
    "        if self.loss_type == \"sigmoid\":\n",
    "            losses = (\n",
    "                -F.logsigmoid(self.beta * logits) * (1 - self.label_smoothing)\n",
    "                - F.logsigmoid(-self.beta * logits) * self.label_smoothing\n",
    "            )\n",
    "    \n",
    "        elif self.loss_type == \"robust\":\n",
    "            losses = (\n",
    "                -F.logsigmoid(self.beta * logits) * (1 - self.label_smoothing)\n",
    "                + F.logsigmoid(-self.beta * logits) * self.label_smoothing\n",
    "            ) / (1 - 2 * self.label_smoothing)\n",
    "    \n",
    "        elif self.loss_type == \"exo_pair\":\n",
    "            # eqn (16) of the EXO paper: https://huggingface.co/papers/2402.00856\n",
    "            import math\n",
    "    \n",
    "            if self.label_smoothing == 0:\n",
    "                self.label_smoothing = 1e-3\n",
    "            losses = (self.beta * logits).sigmoid() * (\n",
    "                F.logsigmoid(self.beta * logits) - math.log(1 - self.label_smoothing)\n",
    "            ) + (-self.beta * logits).sigmoid() * (F.logsigmoid(-self.beta * logits) - math.log(self.label_smoothing))\n",
    "    \n",
    "        elif self.loss_type == \"hinge\":\n",
    "            losses = torch.relu(1 - self.beta * logits)\n",
    "    \n",
    "        elif self.loss_type == \"ipo\":\n",
    "            # eqn (17) of the paper where beta is the regularization parameter for the IPO loss, denoted by tau in the paper.\n",
    "            losses = (logits - 1 / (2 * self.beta)) ** 2\n",
    "\n",
    "        elif self.loss_type == \"bco_pair\":\n",
    "            chosen_logratios = chosen_logps - ref_chosen_logps\n",
    "            rejected_logratios = rejected_logps - ref_rejected_logps\n",
    "            chosen_rewards = self.beta * chosen_logratios\n",
    "            rejected_rewards = self.beta * rejected_logratios\n",
    "            rewards = torch.cat((chosen_rewards, rejected_rewards), 0).mean().detach()\n",
    "            self.running.update(rewards)\n",
    "            delta = self.running.mean\n",
    "            losses = -F.logsigmoid((self.beta * chosen_logratios) - delta) - F.logsigmoid(\n",
    "                -(self.beta * rejected_logratios - delta)\n",
    "            )\n",
    "    \n",
    "        elif self.loss_type == \"sppo_hard\":\n",
    "            # In the paper (https://huggingface.co/papers/2405.00675), SPPO employs a soft probability approach,\n",
    "            # estimated using the PairRM score. The probability calculation is conducted outside of the trainer class.\n",
    "            # The version described here is the hard probability version, where P in Equation (4.7) of Algorithm 1 is\n",
    "            # set to 1 for the winner and 0 for the loser.\n",
    "            a = chosen_logps - ref_chosen_logps\n",
    "            b = rejected_logps - ref_rejected_logps\n",
    "            losses = (a - 0.5 / self.beta) ** 2 + (b + 0.5 / self.beta) ** 2\n",
    "    \n",
    "        elif self.loss_type == \"nca_pair\":\n",
    "            chosen_rewards = (chosen_logps - ref_chosen_logps) * self.beta\n",
    "            rejected_rewards = (rejected_logps - ref_rejected_logps) * self.beta\n",
    "            losses = (\n",
    "                -F.logsigmoid(chosen_rewards)\n",
    "                - 0.5 * F.logsigmoid(-chosen_rewards)\n",
    "                - 0.5 * F.logsigmoid(-rejected_rewards)\n",
    "            )\n",
    "    \n",
    "        elif self.loss_type == \"aot_pair\":\n",
    "            chosen_logratios = chosen_logps - ref_chosen_logps\n",
    "            rejected_logratios = rejected_logps - ref_rejected_logps\n",
    "            chosen_logratios_sorted, _ = torch.sort(chosen_logratios, dim=0)\n",
    "            rejected_logratios_sorted, _ = torch.sort(rejected_logratios, dim=0)\n",
    "            delta = chosen_logratios_sorted - rejected_logratios_sorted\n",
    "            losses = (\n",
    "                -F.logsigmoid(self.beta * delta) * (1 - self.label_smoothing)\n",
    "                - F.logsigmoid(-self.beta * delta) * self.label_smoothing\n",
    "            )\n",
    "    \n",
    "        elif self.loss_type == \"aot\":\n",
    "            logratios = chosen_logps - rejected_logps\n",
    "            ref_logratios = ref_chosen_logps - ref_rejected_logps\n",
    "            logratios_sorted, _ = torch.sort(logratios, dim=0)\n",
    "            ref_logratios_sorted, _ = torch.sort(ref_logratios, dim=0)\n",
    "            delta = logratios_sorted - ref_logratios_sorted\n",
    "            losses = (\n",
    "                -F.logsigmoid(self.beta * delta) * (1 - self.label_smoothing)\n",
    "                - F.logsigmoid(-self.beta * delta) * self.label_smoothing\n",
    "            )\n",
    "    \n",
    "        elif self.loss_type == \"apo_zero\":\n",
    "            # Eqn (7) of the APO paper (https://huggingface.co/papers/2408.06266)\n",
    "            # Use this loss when you believe the chosen outputs are better than your model's default output\n",
    "            losses_chosen = 1 - F.sigmoid(self.beta * chosen_logratios)  # Increase chosen likelihood\n",
    "            losses_rejected = F.sigmoid(self.beta * rejected_logratios)  # Decrease rejected likelihood\n",
    "            losses = losses_chosen + losses_rejected\n",
    "    \n",
    "        elif self.loss_type == \"apo_down\":\n",
    "            # Eqn (8) of the APO paper (https://huggingface.co/papers/2408.06266)\n",
    "            # Use this loss when you believe the chosen outputs are worse than your model's default output.\n",
    "            # Decrease chosen likelihood and decrease rejected likelihood more\n",
    "            losses_chosen = F.sigmoid(self.beta * chosen_logratios)\n",
    "            losses_rejected = 1 - F.sigmoid(self.beta * (chosen_logratios - rejected_logratios))\n",
    "            losses = losses_chosen + losses_rejected\n",
    "    \n",
    "        elif self.loss_type == \"discopop\":\n",
    "            # Eqn (5) of the DiscoPOP paper (https://huggingface.co/papers/2406.08414)\n",
    "            # This loss was discovered with LLM discovery\n",
    "            logratios = chosen_logps - rejected_logps\n",
    "            ref_logratios = ref_chosen_logps - ref_rejected_logps\n",
    "            logits = logratios - ref_logratios\n",
    "            logits = logits * self.beta\n",
    "            # Modulate the mixing coefficient based on the log ratio magnitudes\n",
    "            log_ratio_modulation = torch.sigmoid(logits / self.args.discopop_tau)\n",
    "            logistic_component = -F.logsigmoid(logits)\n",
    "            exp_component = torch.exp(-logits)\n",
    "            # Blend between logistic and exponential component based on log ratio modulation\n",
    "            losses = logistic_component * (1 - log_ratio_modulation) + exp_component * log_ratio_modulation\n",
    "    \n",
    "        else:\n",
    "            raise ValueError(\n",
    "                f\"Unknown loss type: {self.loss_type}. Should be one of ['sigmoid', 'hinge', 'ipo', 'exo_pair', \"\n",
    "                \"'nca_pair', 'robust', 'bco_pair', 'sppo_hard', 'aot', 'aot_pair', 'discopop', 'apo_zero', 'apo_down']\"\n",
    "            )\n",
    "    \n",
    "        chosen_rewards = self.beta * (chosen_logps.to(device) - ref_chosen_logps.to(device)).detach()\n",
    "        rejected_rewards = self.beta * (rejected_logps.to(device) - ref_rejected_logps.to(device)).detach()\n",
    "    \n",
    "        return losses, chosen_rewards, rejected_rewards"
   ]
  },
  {
   "cell_type": "code",
   "execution_count": 14,
   "id": "e6883944-736e-46da-affe-0af1b70c6f51",
   "metadata": {
    "execution": {
     "iopub.execute_input": "2025-03-06T03:45:57.873852Z",
     "iopub.status.busy": "2025-03-06T03:45:57.873596Z",
     "iopub.status.idle": "2025-03-06T03:45:57.902622Z",
     "shell.execute_reply": "2025-03-06T03:45:57.901818Z",
     "shell.execute_reply.started": "2025-03-06T03:45:57.873822Z"
    },
    "trusted": true
   },
   "outputs": [],
   "source": [
    "def train_custom_dpo_model(model, tokenizer, train_dataset, divergence_type, alpha=None, output_dir=None):\n",
    "    dpo_config = DPOConfig(\n",
    "        beta=0.1,\n",
    "        per_device_train_batch_size=1,\n",
    "        gradient_accumulation_steps=16,\n",
    "        learning_rate=5e-5,\n",
    "        max_steps=max_steps,\n",
    "        bf16=True,\n",
    "        logging_steps=10,\n",
    "        output_dir=output_dir,\n",
    "        report_to=\"none\"\n",
    "    )\n",
    "    trainer = CustomDPOTrainer(\n",
    "        model=model,\n",
    "        args=dpo_config,\n",
    "        train_dataset=train_dataset,\n",
    "        tokenizer=tokenizer,\n",
    "        divergence_type=divergence_type,\n",
    "        alpha=alpha\n",
    "    )\n",
    "    trainer.train()\n",
    "    trainer.save_model(output_dir)\n",
    "    return trainer"
   ]
  },
  {
   "cell_type": "code",
   "execution_count": 15,
   "id": "4c17bc1e-8546-4bc6-91bc-4a508c9f9f5a",
   "metadata": {
    "execution": {
     "iopub.execute_input": "2025-03-06T03:45:57.903673Z",
     "iopub.status.busy": "2025-03-06T03:45:57.903418Z",
     "iopub.status.idle": "2025-03-06T03:45:57.919361Z",
     "shell.execute_reply": "2025-03-06T03:45:57.918475Z",
     "shell.execute_reply.started": "2025-03-06T03:45:57.903641Z"
    },
    "trusted": true
   },
   "outputs": [],
   "source": [
    "def plot_kl_win_tradeoff(kl_win_data):\n",
    "    plt.figure(figsize=(8, 5))\n",
    "    for name, (kl, win_rate) in kl_win_data.items():\n",
    "        plt.scatter(kl, win_rate, label=name, s=100)\n",
    "    plt.xlabel(\"KL Divergence\")\n",
    "    plt.ylabel(\"Win Rate\")\n",
    "    plt.title(\"Tradeoff между KL и Win Rate\")\n",
    "    plt.legend()\n",
    "    plt.grid()\n",
    "    plt.show()"
   ]
  },
  {
   "cell_type": "code",
   "execution_count": 16,
   "id": "f00b5902-33e6-402c-9060-52fc54d0149d",
   "metadata": {
    "execution": {
     "iopub.execute_input": "2025-03-06T03:45:57.922089Z",
     "iopub.status.busy": "2025-03-06T03:45:57.921829Z",
     "iopub.status.idle": "2025-03-06T07:22:58.058779Z",
     "shell.execute_reply": "2025-03-06T07:22:58.057789Z",
     "shell.execute_reply.started": "2025-03-06T03:45:57.922067Z"
    },
    "trusted": true
   },
   "outputs": [
    {
     "name": "stderr",
     "output_type": "stream",
     "text": [
      "<ipython-input-13-02063f9b6f35>:3: FutureWarning: `tokenizer` is deprecated and removed starting from version 0.16.0 for `CustomDPOTrainer.__init__`. Use `processing_class` instead.\n",
      "  super().__init__(*args, **kwargs)\n"
     ]
    },
    {
     "data": {
      "text/html": [
       "\n",
       "    <div>\n",
       "      \n",
       "      <progress value='200' max='200' style='width:300px; height:20px; vertical-align: middle;'></progress>\n",
       "      [200/200 1:06:30, Epoch 0/1]\n",
       "    </div>\n",
       "    <table border=\"1\" class=\"dataframe\">\n",
       "  <thead>\n",
       " <tr style=\"text-align: left;\">\n",
       "      <th>Step</th>\n",
       "      <th>Training Loss</th>\n",
       "    </tr>\n",
       "  </thead>\n",
       "  <tbody>\n",
       "    <tr>\n",
       "      <td>10</td>\n",
       "      <td>0.697700</td>\n",
       "    </tr>\n",
       "    <tr>\n",
       "      <td>20</td>\n",
       "      <td>0.664700</td>\n",
       "    </tr>\n",
       "    <tr>\n",
       "      <td>30</td>\n",
       "      <td>0.707600</td>\n",
       "    </tr>\n",
       "    <tr>\n",
       "      <td>40</td>\n",
       "      <td>0.655700</td>\n",
       "    </tr>\n",
       "    <tr>\n",
       "      <td>50</td>\n",
       "      <td>0.707100</td>\n",
       "    </tr>\n",
       "    <tr>\n",
       "      <td>60</td>\n",
       "      <td>0.656200</td>\n",
       "    </tr>\n",
       "    <tr>\n",
       "      <td>70</td>\n",
       "      <td>0.642500</td>\n",
       "    </tr>\n",
       "    <tr>\n",
       "      <td>80</td>\n",
       "      <td>0.698100</td>\n",
       "    </tr>\n",
       "    <tr>\n",
       "      <td>90</td>\n",
       "      <td>0.715200</td>\n",
       "    </tr>\n",
       "    <tr>\n",
       "      <td>100</td>\n",
       "      <td>0.627200</td>\n",
       "    </tr>\n",
       "    <tr>\n",
       "      <td>110</td>\n",
       "      <td>0.624400</td>\n",
       "    </tr>\n",
       "    <tr>\n",
       "      <td>120</td>\n",
       "      <td>0.670100</td>\n",
       "    </tr>\n",
       "    <tr>\n",
       "      <td>130</td>\n",
       "      <td>0.624900</td>\n",
       "    </tr>\n",
       "    <tr>\n",
       "      <td>140</td>\n",
       "      <td>0.603900</td>\n",
       "    </tr>\n",
       "    <tr>\n",
       "      <td>150</td>\n",
       "      <td>0.660700</td>\n",
       "    </tr>\n",
       "    <tr>\n",
       "      <td>160</td>\n",
       "      <td>0.699200</td>\n",
       "    </tr>\n",
       "    <tr>\n",
       "      <td>170</td>\n",
       "      <td>0.674500</td>\n",
       "    </tr>\n",
       "    <tr>\n",
       "      <td>180</td>\n",
       "      <td>0.609000</td>\n",
       "    </tr>\n",
       "    <tr>\n",
       "      <td>190</td>\n",
       "      <td>0.654000</td>\n",
       "    </tr>\n",
       "    <tr>\n",
       "      <td>200</td>\n",
       "      <td>0.600500</td>\n",
       "    </tr>\n",
       "  </tbody>\n",
       "</table><p>"
      ],
      "text/plain": [
       "<IPython.core.display.HTML object>"
      ]
     },
     "metadata": {},
     "output_type": "display_data"
    },
    {
     "name": "stderr",
     "output_type": "stream",
     "text": [
      "/usr/local/lib/python3.10/dist-packages/dataclasses_json/core.py:201: RuntimeWarning: 'NoneType' object value of non-optional type load_checkpoint detected when decoding RankerConfig.\n",
      "  warnings.warn(\n",
      "/usr/local/lib/python3.10/dist-packages/dataclasses_json/core.py:201: RuntimeWarning: 'NoneType' object value of non-optional type device detected when decoding RankerConfig.\n",
      "  warnings.warn(\n",
      "/usr/local/lib/python3.10/dist-packages/transformers/convert_slow_tokenizer.py:561: UserWarning: The sentencepiece tokenizer that you are converting to a fast tokenizer uses the byte fallback option which is not implemented in the fast tokenizers. In practice this means that the fast version of the tokenizer can produce unknown tokens whereas the sentencepiece version would have converted these unknown tokens into a sequence of byte tokens matching the original piece of text.\n",
      "  warnings.warn(\n",
      "Error during conversion: ChunkedEncodingError(ProtocolError('Response ended prematurely'))\n"
     ]
    },
    {
     "name": "stdout",
     "output_type": "stream",
     "text": [
      "Successfully loaded ranker from  /root/.cache/huggingface/hub/llm-blender/PairRM\n"
     ]
    },
    {
     "name": "stderr",
     "output_type": "stream",
     "text": [
      "Ranking candidates: 100%|██████████| 100/100 [00:28<00:00,  3.51it/s]\n"
     ]
    },
    {
     "name": "stdout",
     "output_type": "stream",
     "text": [
      "0.23 0.03493251586332917\n"
     ]
    },
    {
     "name": "stderr",
     "output_type": "stream",
     "text": [
      "<ipython-input-13-02063f9b6f35>:3: FutureWarning: `tokenizer` is deprecated and removed starting from version 0.16.0 for `CustomDPOTrainer.__init__`. Use `processing_class` instead.\n",
      "  super().__init__(*args, **kwargs)\n"
     ]
    },
    {
     "data": {
      "text/html": [
       "\n",
       "    <div>\n",
       "      \n",
       "      <progress value='200' max='200' style='width:300px; height:20px; vertical-align: middle;'></progress>\n",
       "      [200/200 1:06:30, Epoch 0/1]\n",
       "    </div>\n",
       "    <table border=\"1\" class=\"dataframe\">\n",
       "  <thead>\n",
       " <tr style=\"text-align: left;\">\n",
       "      <th>Step</th>\n",
       "      <th>Training Loss</th>\n",
       "    </tr>\n",
       "  </thead>\n",
       "  <tbody>\n",
       "    <tr>\n",
       "      <td>10</td>\n",
       "      <td>0.697700</td>\n",
       "    </tr>\n",
       "    <tr>\n",
       "      <td>20</td>\n",
       "      <td>0.664700</td>\n",
       "    </tr>\n",
       "    <tr>\n",
       "      <td>30</td>\n",
       "      <td>0.707600</td>\n",
       "    </tr>\n",
       "    <tr>\n",
       "      <td>40</td>\n",
       "      <td>0.655700</td>\n",
       "    </tr>\n",
       "    <tr>\n",
       "      <td>50</td>\n",
       "      <td>0.707100</td>\n",
       "    </tr>\n",
       "    <tr>\n",
       "      <td>60</td>\n",
       "      <td>0.656200</td>\n",
       "    </tr>\n",
       "    <tr>\n",
       "      <td>70</td>\n",
       "      <td>0.642500</td>\n",
       "    </tr>\n",
       "    <tr>\n",
       "      <td>80</td>\n",
       "      <td>0.698100</td>\n",
       "    </tr>\n",
       "    <tr>\n",
       "      <td>90</td>\n",
       "      <td>0.715200</td>\n",
       "    </tr>\n",
       "    <tr>\n",
       "      <td>100</td>\n",
       "      <td>0.627200</td>\n",
       "    </tr>\n",
       "    <tr>\n",
       "      <td>110</td>\n",
       "      <td>0.624400</td>\n",
       "    </tr>\n",
       "    <tr>\n",
       "      <td>120</td>\n",
       "      <td>0.670100</td>\n",
       "    </tr>\n",
       "    <tr>\n",
       "      <td>130</td>\n",
       "      <td>0.624900</td>\n",
       "    </tr>\n",
       "    <tr>\n",
       "      <td>140</td>\n",
       "      <td>0.603900</td>\n",
       "    </tr>\n",
       "    <tr>\n",
       "      <td>150</td>\n",
       "      <td>0.660700</td>\n",
       "    </tr>\n",
       "    <tr>\n",
       "      <td>160</td>\n",
       "      <td>0.699200</td>\n",
       "    </tr>\n",
       "    <tr>\n",
       "      <td>170</td>\n",
       "      <td>0.674500</td>\n",
       "    </tr>\n",
       "    <tr>\n",
       "      <td>180</td>\n",
       "      <td>0.609000</td>\n",
       "    </tr>\n",
       "    <tr>\n",
       "      <td>190</td>\n",
       "      <td>0.654000</td>\n",
       "    </tr>\n",
       "    <tr>\n",
       "      <td>200</td>\n",
       "      <td>0.600500</td>\n",
       "    </tr>\n",
       "  </tbody>\n",
       "</table><p>"
      ],
      "text/plain": [
       "<IPython.core.display.HTML object>"
      ]
     },
     "metadata": {},
     "output_type": "display_data"
    },
    {
     "name": "stderr",
     "output_type": "stream",
     "text": [
      "/usr/local/lib/python3.10/dist-packages/dataclasses_json/core.py:201: RuntimeWarning: 'NoneType' object value of non-optional type load_checkpoint detected when decoding RankerConfig.\n",
      "  warnings.warn(\n",
      "/usr/local/lib/python3.10/dist-packages/dataclasses_json/core.py:201: RuntimeWarning: 'NoneType' object value of non-optional type device detected when decoding RankerConfig.\n",
      "  warnings.warn(\n",
      "/usr/local/lib/python3.10/dist-packages/transformers/convert_slow_tokenizer.py:561: UserWarning: The sentencepiece tokenizer that you are converting to a fast tokenizer uses the byte fallback option which is not implemented in the fast tokenizers. In practice this means that the fast version of the tokenizer can produce unknown tokens whereas the sentencepiece version would have converted these unknown tokens into a sequence of byte tokens matching the original piece of text.\n",
      "  warnings.warn(\n"
     ]
    },
    {
     "name": "stdout",
     "output_type": "stream",
     "text": [
      "Successfully loaded ranker from  /root/.cache/huggingface/hub/llm-blender/PairRM\n"
     ]
    },
    {
     "name": "stderr",
     "output_type": "stream",
     "text": [
      "Ranking candidates: 100%|██████████| 100/100 [00:28<00:00,  3.49it/s]\n"
     ]
    },
    {
     "name": "stdout",
     "output_type": "stream",
     "text": [
      "0.23 0.034932573549449446\n"
     ]
    },
    {
     "name": "stderr",
     "output_type": "stream",
     "text": [
      "<ipython-input-13-02063f9b6f35>:3: FutureWarning: `tokenizer` is deprecated and removed starting from version 0.16.0 for `CustomDPOTrainer.__init__`. Use `processing_class` instead.\n",
      "  super().__init__(*args, **kwargs)\n"
     ]
    },
    {
     "data": {
      "text/html": [
       "\n",
       "    <div>\n",
       "      \n",
       "      <progress value='200' max='200' style='width:300px; height:20px; vertical-align: middle;'></progress>\n",
       "      [200/200 1:06:30, Epoch 0/1]\n",
       "    </div>\n",
       "    <table border=\"1\" class=\"dataframe\">\n",
       "  <thead>\n",
       " <tr style=\"text-align: left;\">\n",
       "      <th>Step</th>\n",
       "      <th>Training Loss</th>\n",
       "    </tr>\n",
       "  </thead>\n",
       "  <tbody>\n",
       "    <tr>\n",
       "      <td>10</td>\n",
       "      <td>0.697700</td>\n",
       "    </tr>\n",
       "    <tr>\n",
       "      <td>20</td>\n",
       "      <td>0.664700</td>\n",
       "    </tr>\n",
       "    <tr>\n",
       "      <td>30</td>\n",
       "      <td>0.707600</td>\n",
       "    </tr>\n",
       "    <tr>\n",
       "      <td>40</td>\n",
       "      <td>0.655700</td>\n",
       "    </tr>\n",
       "    <tr>\n",
       "      <td>50</td>\n",
       "      <td>0.707100</td>\n",
       "    </tr>\n",
       "    <tr>\n",
       "      <td>60</td>\n",
       "      <td>0.656200</td>\n",
       "    </tr>\n",
       "    <tr>\n",
       "      <td>70</td>\n",
       "      <td>0.642500</td>\n",
       "    </tr>\n",
       "    <tr>\n",
       "      <td>80</td>\n",
       "      <td>0.698100</td>\n",
       "    </tr>\n",
       "    <tr>\n",
       "      <td>90</td>\n",
       "      <td>0.715200</td>\n",
       "    </tr>\n",
       "    <tr>\n",
       "      <td>100</td>\n",
       "      <td>0.627200</td>\n",
       "    </tr>\n",
       "    <tr>\n",
       "      <td>110</td>\n",
       "      <td>0.624400</td>\n",
       "    </tr>\n",
       "    <tr>\n",
       "      <td>120</td>\n",
       "      <td>0.670100</td>\n",
       "    </tr>\n",
       "    <tr>\n",
       "      <td>130</td>\n",
       "      <td>0.624900</td>\n",
       "    </tr>\n",
       "    <tr>\n",
       "      <td>140</td>\n",
       "      <td>0.603900</td>\n",
       "    </tr>\n",
       "    <tr>\n",
       "      <td>150</td>\n",
       "      <td>0.660700</td>\n",
       "    </tr>\n",
       "    <tr>\n",
       "      <td>160</td>\n",
       "      <td>0.699200</td>\n",
       "    </tr>\n",
       "    <tr>\n",
       "      <td>170</td>\n",
       "      <td>0.674500</td>\n",
       "    </tr>\n",
       "    <tr>\n",
       "      <td>180</td>\n",
       "      <td>0.609000</td>\n",
       "    </tr>\n",
       "    <tr>\n",
       "      <td>190</td>\n",
       "      <td>0.654000</td>\n",
       "    </tr>\n",
       "    <tr>\n",
       "      <td>200</td>\n",
       "      <td>0.600500</td>\n",
       "    </tr>\n",
       "  </tbody>\n",
       "</table><p>"
      ],
      "text/plain": [
       "<IPython.core.display.HTML object>"
      ]
     },
     "metadata": {},
     "output_type": "display_data"
    },
    {
     "name": "stderr",
     "output_type": "stream",
     "text": [
      "/usr/local/lib/python3.10/dist-packages/dataclasses_json/core.py:201: RuntimeWarning: 'NoneType' object value of non-optional type load_checkpoint detected when decoding RankerConfig.\n",
      "  warnings.warn(\n",
      "/usr/local/lib/python3.10/dist-packages/dataclasses_json/core.py:201: RuntimeWarning: 'NoneType' object value of non-optional type device detected when decoding RankerConfig.\n",
      "  warnings.warn(\n",
      "/usr/local/lib/python3.10/dist-packages/transformers/convert_slow_tokenizer.py:561: UserWarning: The sentencepiece tokenizer that you are converting to a fast tokenizer uses the byte fallback option which is not implemented in the fast tokenizers. In practice this means that the fast version of the tokenizer can produce unknown tokens whereas the sentencepiece version would have converted these unknown tokens into a sequence of byte tokens matching the original piece of text.\n",
      "  warnings.warn(\n"
     ]
    },
    {
     "name": "stdout",
     "output_type": "stream",
     "text": [
      "Successfully loaded ranker from  /root/.cache/huggingface/hub/llm-blender/PairRM\n"
     ]
    },
    {
     "name": "stderr",
     "output_type": "stream",
     "text": [
      "Ranking candidates: 100%|██████████| 100/100 [00:28<00:00,  3.50it/s]\n"
     ]
    },
    {
     "name": "stdout",
     "output_type": "stream",
     "text": [
      "0.23 0.034932555146515366\n"
     ]
    },
    {
     "data": {
      "image/png": "[encoded data removed]",
      "text/plain": [
       "<Figure size 800x500 with 1 Axes>"
      ]
     },
     "metadata": {},
     "output_type": "display_data"
    }
   ],
   "source": [
    "train_dataset, test_dataset = load_and_preprocess_dataset()\n",
    "model, tokenizer = initialize_models_and_tokenizer()\n",
    "\n",
    "test_dataset = test_dataset.select(range(100))\n",
    "prompts = test_dataset[\"prompt\"]\n",
    "responses_sft = generate_responses(model, tokenizer, prompts)\n",
    "\n",
    "divergence_types = [\n",
    "    (\"Forward KL\", \"forward_kl\", None, \"dpo_forward_kl\"),\n",
    "    (\"Alpha-div (0.5)\", \"alpha_div\", 0.5, \"dpo_alpha_0.5\"),\n",
    "    (\"JS-divergence\", \"js\", None, \"dpo_js\")\n",
    "]\n",
    "\n",
    "kl_win_data = {}\n",
    "\n",
    "gc.collect()\n",
    "torch.cuda.empty_cache()\n",
    "\n",
    "for name, divergence_type, alpha, output_dir in divergence_types:\n",
    "    gc.collect()\n",
    "    torch.cuda.empty_cache()\n",
    "\n",
    "    trainer = train_custom_dpo_model(model, tokenizer, train_dataset, divergence_type, alpha, output_dir)\n",
    "    \n",
    "    gc.collect()\n",
    "    torch.cuda.empty_cache()\n",
    "    \n",
    "    model = AutoModelForCausalLM.from_pretrained(MODEL_NAME).to(DEVICE)\n",
    "    model_dpo = AutoModelForCausalLM.from_pretrained(output_dir).to(DEVICE)\n",
    "    \n",
    "    blender = llm_blender.Blender()\n",
    "    blender.loadranker(\"llm-blender/PairRM\")\n",
    "\n",
    "    win_rate, kl = evaluate_model(model, model_dpo, tokenizer, prompts, blender, responses_sft)\n",
    "    print(win_rate, kl)\n",
    "    kl_win_data[name] = (kl, win_rate)\n",
    "\n",
    "plot_kl_win_tradeoff(kl_win_data)"
   ]
  },
  {
   "cell_type": "code",
   "execution_count": null,
   "id": "65dea2ef-b644-4149-ad1b-2e8d61e0e819",
   "metadata": {
    "trusted": true
   },
   "outputs": [],
   "source": []
  }
 ],
 "metadata": {
  "accelerator": "GPU",
  "colab": {
   "gpuType": "T4",
   "provenance": []
  },
  "kaggle": {
   "accelerator": "none",
   "dataSources": [],
   "dockerImageVersionId": 30918,
   "isGpuEnabled": false,
   "isInternetEnabled": true,
   "language": "python",
   "sourceType": "notebook"
  },
  "kernelspec": {
   "display_name": "Python 3",
   "language": "python",
   "name": "python3"
  },
  "language_info": {
   "codemirror_mode": {
    "name": "ipython",
    "version": 3
   },
   "file_extension": ".py",
   "mimetype": "text/x-python",
   "name": "python",
   "nbconvert_exporter": "python",
   "pygments_lexer": "ipython3",
   "version": "3.10.12"
  }
 },
 "nbformat": 4,
 "nbformat_minor": 5
}
